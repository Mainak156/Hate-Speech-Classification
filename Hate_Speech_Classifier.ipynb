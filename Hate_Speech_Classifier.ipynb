{
 "cells": [
  {
   "cell_type": "code",
   "execution_count": 1,
   "id": "84f6fab6",
   "metadata": {},
   "outputs": [
    {
     "name": "stderr",
     "output_type": "stream",
     "text": [
      "[nltk_data] Error loading punkt: <urlopen error [WinError 10054] An\n",
      "[nltk_data]     existing connection was forcibly closed by the remote\n",
      "[nltk_data]     host>\n",
      "[nltk_data] Error loading averaged_perceptron_tagger: <urlopen error\n",
      "[nltk_data]     [WinError 10054] An existing connection was forcibly\n",
      "[nltk_data]     closed by the remote host>\n",
      "[nltk_data] Error loading wordnet: <urlopen error [WinError 10054] An\n",
      "[nltk_data]     existing connection was forcibly closed by the remote\n",
      "[nltk_data]     host>\n",
      "[nltk_data] Error loading stopwords: <urlopen error [WinError 10054]\n",
      "[nltk_data]     An existing connection was forcibly closed by the\n",
      "[nltk_data]     remote host>\n",
      "[nltk_data] Error loading omw-1.4: <urlopen error [WinError 10054] An\n",
      "[nltk_data]     existing connection was forcibly closed by the remote\n",
      "[nltk_data]     host>\n"
     ]
    },
    {
     "data": {
      "text/plain": [
       "False"
      ]
     },
     "execution_count": 1,
     "metadata": {},
     "output_type": "execute_result"
    }
   ],
   "source": [
    "import pandas as pd\n",
    "import numpy as np\n",
    "import re\n",
    "import zipfile\n",
    "import os\n",
    "import nltk\n",
    "from nltk.corpus import stopwords\n",
    "from nltk.corpus import wordnet\n",
    "from nltk import pos_tag, word_tokenize\n",
    "from nltk.stem import WordNetLemmatizer\n",
    "from sklearn.model_selection import train_test_split\n",
    "from sklearn.feature_extraction.text import TfidfVectorizer\n",
    "from sklearn.linear_model import LogisticRegression\n",
    "from sklearn.ensemble import RandomForestClassifier\n",
    "from sklearn.svm import SVC\n",
    "from sklearn.ensemble import VotingClassifier, StackingClassifier\n",
    "from sklearn.pipeline import Pipeline\n",
    "from sklearn.metrics import classification_report\n",
    "import joblib\n",
    "import ipywidgets as widgets\n",
    "from IPython.display import display, clear_output\n",
    "nltk.download('punkt')\n",
    "nltk.download('averaged_perceptron_tagger')\n",
    "nltk.download('wordnet')\n",
    "nltk.download('stopwords')\n",
    "nltk.download('omw-1.4')"
   ]
  },
  {
   "cell_type": "code",
   "execution_count": 2,
   "id": "be9d8359",
   "metadata": {},
   "outputs": [],
   "source": [
    "df = pd.read_csv('final_hateXplain.csv')"
   ]
  },
  {
   "cell_type": "code",
   "execution_count": 3,
   "id": "73c6d73a",
   "metadata": {},
   "outputs": [
    {
     "name": "stdout",
     "output_type": "stream",
     "text": [
      "<class 'pandas.core.frame.DataFrame'>\n",
      "RangeIndex: 20109 entries, 0 to 20108\n",
      "Data columns (total 7 columns):\n",
      " #   Column              Non-Null Count  Dtype \n",
      "---  ------              --------------  ----- \n",
      " 0   comment             20109 non-null  object\n",
      " 1   label               20109 non-null  object\n",
      " 2   Race                20109 non-null  object\n",
      " 3   Religion            20109 non-null  object\n",
      " 4   Gender              20109 non-null  object\n",
      " 5   Sexual Orientation  20109 non-null  object\n",
      " 6   Miscellaneous       3533 non-null   object\n",
      "dtypes: object(7)\n",
      "memory usage: 1.1+ MB\n"
     ]
    }
   ],
   "source": [
    "df.info()"
   ]
  },
  {
   "cell_type": "code",
   "execution_count": 4,
   "id": "1347808a",
   "metadata": {},
   "outputs": [],
   "source": [
    "df.drop(columns=['Miscellaneous'], inplace=True)"
   ]
  },
  {
   "cell_type": "code",
   "execution_count": 5,
   "id": "2625fdd0",
   "metadata": {},
   "outputs": [
    {
     "data": {
      "text/html": [
       "<div>\n",
       "<style scoped>\n",
       "    .dataframe tbody tr th:only-of-type {\n",
       "        vertical-align: middle;\n",
       "    }\n",
       "\n",
       "    .dataframe tbody tr th {\n",
       "        vertical-align: top;\n",
       "    }\n",
       "\n",
       "    .dataframe thead th {\n",
       "        text-align: right;\n",
       "    }\n",
       "</style>\n",
       "<table border=\"1\" class=\"dataframe\">\n",
       "  <thead>\n",
       "    <tr style=\"text-align: right;\">\n",
       "      <th></th>\n",
       "      <th>comment</th>\n",
       "      <th>label</th>\n",
       "      <th>Race</th>\n",
       "      <th>Religion</th>\n",
       "      <th>Gender</th>\n",
       "      <th>Sexual Orientation</th>\n",
       "    </tr>\n",
       "  </thead>\n",
       "  <tbody>\n",
       "    <tr>\n",
       "      <th>0</th>\n",
       "      <td>0 u0 lmao wow fuck you too 😂 😂</td>\n",
       "      <td>normal</td>\n",
       "      <td>No_race</td>\n",
       "      <td>Nonreligious</td>\n",
       "      <td>No_gender</td>\n",
       "      <td>No_orientation</td>\n",
       "    </tr>\n",
       "    <tr>\n",
       "      <th>1</th>\n",
       "      <td>1 0 th floor maybe wow cnn with the fakenews t...</td>\n",
       "      <td>offensive</td>\n",
       "      <td>No_race</td>\n",
       "      <td>Nonreligious</td>\n",
       "      <td>No_gender</td>\n",
       "      <td>No_orientation</td>\n",
       "    </tr>\n",
       "    <tr>\n",
       "      <th>2</th>\n",
       "      <td>1 0 yrs &lt;number&gt; white women raped by niggers ...</td>\n",
       "      <td>hatespeech</td>\n",
       "      <td>African</td>\n",
       "      <td>Nonreligious</td>\n",
       "      <td>No_gender</td>\n",
       "      <td>No_orientation</td>\n",
       "    </tr>\n",
       "    <tr>\n",
       "      <th>3</th>\n",
       "      <td>1 2 h ago ching chong accepted your friend req...</td>\n",
       "      <td>offensive</td>\n",
       "      <td>Asian</td>\n",
       "      <td>Nonreligious</td>\n",
       "      <td>No_gender</td>\n",
       "      <td>No_orientation</td>\n",
       "    </tr>\n",
       "    <tr>\n",
       "      <th>4</th>\n",
       "      <td>1 8 th century mayhem and lawlessness had noth...</td>\n",
       "      <td>normal</td>\n",
       "      <td>No_race</td>\n",
       "      <td>Nonreligious</td>\n",
       "      <td>No_gender</td>\n",
       "      <td>No_orientation</td>\n",
       "    </tr>\n",
       "  </tbody>\n",
       "</table>\n",
       "</div>"
      ],
      "text/plain": [
       "                                             comment       label     Race  \\\n",
       "0                     0 u0 lmao wow fuck you too 😂 😂      normal  No_race   \n",
       "1  1 0 th floor maybe wow cnn with the fakenews t...   offensive  No_race   \n",
       "2  1 0 yrs <number> white women raped by niggers ...  hatespeech  African   \n",
       "3  1 2 h ago ching chong accepted your friend req...   offensive    Asian   \n",
       "4  1 8 th century mayhem and lawlessness had noth...      normal  No_race   \n",
       "\n",
       "       Religion     Gender Sexual Orientation  \n",
       "0  Nonreligious  No_gender     No_orientation  \n",
       "1  Nonreligious  No_gender     No_orientation  \n",
       "2  Nonreligious  No_gender     No_orientation  \n",
       "3  Nonreligious  No_gender     No_orientation  \n",
       "4  Nonreligious  No_gender     No_orientation  "
      ]
     },
     "execution_count": 5,
     "metadata": {},
     "output_type": "execute_result"
    }
   ],
   "source": [
    "df.head()"
   ]
  },
  {
   "cell_type": "code",
   "execution_count": 6,
   "id": "ac2e017a",
   "metadata": {},
   "outputs": [],
   "source": [
    "df['comment'] = df['comment'].apply(lambda x: nltk.word_tokenize(x))"
   ]
  },
  {
   "cell_type": "code",
   "execution_count": 7,
   "id": "00bc33f6",
   "metadata": {},
   "outputs": [
    {
     "data": {
      "text/html": [
       "<div>\n",
       "<style scoped>\n",
       "    .dataframe tbody tr th:only-of-type {\n",
       "        vertical-align: middle;\n",
       "    }\n",
       "\n",
       "    .dataframe tbody tr th {\n",
       "        vertical-align: top;\n",
       "    }\n",
       "\n",
       "    .dataframe thead th {\n",
       "        text-align: right;\n",
       "    }\n",
       "</style>\n",
       "<table border=\"1\" class=\"dataframe\">\n",
       "  <thead>\n",
       "    <tr style=\"text-align: right;\">\n",
       "      <th></th>\n",
       "      <th>comment</th>\n",
       "      <th>label</th>\n",
       "      <th>Race</th>\n",
       "      <th>Religion</th>\n",
       "      <th>Gender</th>\n",
       "      <th>Sexual Orientation</th>\n",
       "    </tr>\n",
       "  </thead>\n",
       "  <tbody>\n",
       "    <tr>\n",
       "      <th>0</th>\n",
       "      <td>[0, u0, lmao, wow, fuck, you, too, 😂, 😂]</td>\n",
       "      <td>normal</td>\n",
       "      <td>No_race</td>\n",
       "      <td>Nonreligious</td>\n",
       "      <td>No_gender</td>\n",
       "      <td>No_orientation</td>\n",
       "    </tr>\n",
       "    <tr>\n",
       "      <th>1</th>\n",
       "      <td>[1, 0, th, floor, maybe, wow, cnn, with, the, ...</td>\n",
       "      <td>offensive</td>\n",
       "      <td>No_race</td>\n",
       "      <td>Nonreligious</td>\n",
       "      <td>No_gender</td>\n",
       "      <td>No_orientation</td>\n",
       "    </tr>\n",
       "    <tr>\n",
       "      <th>2</th>\n",
       "      <td>[1, 0, yrs, &lt;, number, &gt;, white, women, raped,...</td>\n",
       "      <td>hatespeech</td>\n",
       "      <td>African</td>\n",
       "      <td>Nonreligious</td>\n",
       "      <td>No_gender</td>\n",
       "      <td>No_orientation</td>\n",
       "    </tr>\n",
       "    <tr>\n",
       "      <th>3</th>\n",
       "      <td>[1, 2, h, ago, ching, chong, accepted, your, f...</td>\n",
       "      <td>offensive</td>\n",
       "      <td>Asian</td>\n",
       "      <td>Nonreligious</td>\n",
       "      <td>No_gender</td>\n",
       "      <td>No_orientation</td>\n",
       "    </tr>\n",
       "    <tr>\n",
       "      <th>4</th>\n",
       "      <td>[1, 8, th, century, mayhem, and, lawlessness, ...</td>\n",
       "      <td>normal</td>\n",
       "      <td>No_race</td>\n",
       "      <td>Nonreligious</td>\n",
       "      <td>No_gender</td>\n",
       "      <td>No_orientation</td>\n",
       "    </tr>\n",
       "  </tbody>\n",
       "</table>\n",
       "</div>"
      ],
      "text/plain": [
       "                                             comment       label     Race  \\\n",
       "0           [0, u0, lmao, wow, fuck, you, too, 😂, 😂]      normal  No_race   \n",
       "1  [1, 0, th, floor, maybe, wow, cnn, with, the, ...   offensive  No_race   \n",
       "2  [1, 0, yrs, <, number, >, white, women, raped,...  hatespeech  African   \n",
       "3  [1, 2, h, ago, ching, chong, accepted, your, f...   offensive    Asian   \n",
       "4  [1, 8, th, century, mayhem, and, lawlessness, ...      normal  No_race   \n",
       "\n",
       "       Religion     Gender Sexual Orientation  \n",
       "0  Nonreligious  No_gender     No_orientation  \n",
       "1  Nonreligious  No_gender     No_orientation  \n",
       "2  Nonreligious  No_gender     No_orientation  \n",
       "3  Nonreligious  No_gender     No_orientation  \n",
       "4  Nonreligious  No_gender     No_orientation  "
      ]
     },
     "execution_count": 7,
     "metadata": {},
     "output_type": "execute_result"
    }
   ],
   "source": [
    "df.head()"
   ]
  },
  {
   "cell_type": "code",
   "execution_count": 8,
   "id": "d3b1d697",
   "metadata": {},
   "outputs": [],
   "source": [
    "def remove_stopwords(tokens_list):\n",
    "    stop_words = set(stopwords.words('english'))\n",
    "    filtered_tokens = [word for word in tokens_list if word not in stop_words]\n",
    "    \n",
    "    return filtered_tokens\n",
    "\n",
    "df['comment'] = df['comment'].apply(lambda tokens_list: remove_stopwords(tokens_list))"
   ]
  },
  {
   "cell_type": "code",
   "execution_count": 9,
   "id": "90734740",
   "metadata": {},
   "outputs": [
    {
     "data": {
      "text/html": [
       "<div>\n",
       "<style scoped>\n",
       "    .dataframe tbody tr th:only-of-type {\n",
       "        vertical-align: middle;\n",
       "    }\n",
       "\n",
       "    .dataframe tbody tr th {\n",
       "        vertical-align: top;\n",
       "    }\n",
       "\n",
       "    .dataframe thead th {\n",
       "        text-align: right;\n",
       "    }\n",
       "</style>\n",
       "<table border=\"1\" class=\"dataframe\">\n",
       "  <thead>\n",
       "    <tr style=\"text-align: right;\">\n",
       "      <th></th>\n",
       "      <th>comment</th>\n",
       "      <th>label</th>\n",
       "      <th>Race</th>\n",
       "      <th>Religion</th>\n",
       "      <th>Gender</th>\n",
       "      <th>Sexual Orientation</th>\n",
       "    </tr>\n",
       "  </thead>\n",
       "  <tbody>\n",
       "    <tr>\n",
       "      <th>0</th>\n",
       "      <td>[0, u0, lmao, wow, fuck, 😂, 😂]</td>\n",
       "      <td>normal</td>\n",
       "      <td>No_race</td>\n",
       "      <td>Nonreligious</td>\n",
       "      <td>No_gender</td>\n",
       "      <td>No_orientation</td>\n",
       "    </tr>\n",
       "    <tr>\n",
       "      <th>1</th>\n",
       "      <td>[1, 0, th, floor, maybe, wow, cnn, fakenews, b...</td>\n",
       "      <td>offensive</td>\n",
       "      <td>No_race</td>\n",
       "      <td>Nonreligious</td>\n",
       "      <td>No_gender</td>\n",
       "      <td>No_orientation</td>\n",
       "    </tr>\n",
       "    <tr>\n",
       "      <th>2</th>\n",
       "      <td>[1, 0, yrs, &lt;, number, &gt;, white, women, raped,...</td>\n",
       "      <td>hatespeech</td>\n",
       "      <td>African</td>\n",
       "      <td>Nonreligious</td>\n",
       "      <td>No_gender</td>\n",
       "      <td>No_orientation</td>\n",
       "    </tr>\n",
       "    <tr>\n",
       "      <th>3</th>\n",
       "      <td>[1, 2, h, ago, ching, chong, accepted, friend,...</td>\n",
       "      <td>offensive</td>\n",
       "      <td>Asian</td>\n",
       "      <td>Nonreligious</td>\n",
       "      <td>No_gender</td>\n",
       "      <td>No_orientation</td>\n",
       "    </tr>\n",
       "    <tr>\n",
       "      <th>4</th>\n",
       "      <td>[1, 8, th, century, mayhem, lawlessness, nothi...</td>\n",
       "      <td>normal</td>\n",
       "      <td>No_race</td>\n",
       "      <td>Nonreligious</td>\n",
       "      <td>No_gender</td>\n",
       "      <td>No_orientation</td>\n",
       "    </tr>\n",
       "  </tbody>\n",
       "</table>\n",
       "</div>"
      ],
      "text/plain": [
       "                                             comment       label     Race  \\\n",
       "0                     [0, u0, lmao, wow, fuck, 😂, 😂]      normal  No_race   \n",
       "1  [1, 0, th, floor, maybe, wow, cnn, fakenews, b...   offensive  No_race   \n",
       "2  [1, 0, yrs, <, number, >, white, women, raped,...  hatespeech  African   \n",
       "3  [1, 2, h, ago, ching, chong, accepted, friend,...   offensive    Asian   \n",
       "4  [1, 8, th, century, mayhem, lawlessness, nothi...      normal  No_race   \n",
       "\n",
       "       Religion     Gender Sexual Orientation  \n",
       "0  Nonreligious  No_gender     No_orientation  \n",
       "1  Nonreligious  No_gender     No_orientation  \n",
       "2  Nonreligious  No_gender     No_orientation  \n",
       "3  Nonreligious  No_gender     No_orientation  \n",
       "4  Nonreligious  No_gender     No_orientation  "
      ]
     },
     "execution_count": 9,
     "metadata": {},
     "output_type": "execute_result"
    }
   ],
   "source": [
    "df.head()"
   ]
  },
  {
   "cell_type": "code",
   "execution_count": 10,
   "id": "3c5e0a5d",
   "metadata": {},
   "outputs": [],
   "source": [
    "def remove_digits(tokens_list):\n",
    "    token_filtered = []\n",
    "    for token in tokens_list:\n",
    "        result = ''.join([i for i in token if not i.isdigit()])\n",
    "        if result: \n",
    "            token_filtered.append(result)\n",
    "    \n",
    "    return token_filtered\n",
    "\n",
    "df['comment'] = df['comment'].apply(lambda tokens:remove_digits(tokens))"
   ]
  },
  {
   "cell_type": "code",
   "execution_count": 11,
   "id": "142c4768",
   "metadata": {},
   "outputs": [
    {
     "data": {
      "text/html": [
       "<div>\n",
       "<style scoped>\n",
       "    .dataframe tbody tr th:only-of-type {\n",
       "        vertical-align: middle;\n",
       "    }\n",
       "\n",
       "    .dataframe tbody tr th {\n",
       "        vertical-align: top;\n",
       "    }\n",
       "\n",
       "    .dataframe thead th {\n",
       "        text-align: right;\n",
       "    }\n",
       "</style>\n",
       "<table border=\"1\" class=\"dataframe\">\n",
       "  <thead>\n",
       "    <tr style=\"text-align: right;\">\n",
       "      <th></th>\n",
       "      <th>comment</th>\n",
       "      <th>label</th>\n",
       "      <th>Race</th>\n",
       "      <th>Religion</th>\n",
       "      <th>Gender</th>\n",
       "      <th>Sexual Orientation</th>\n",
       "    </tr>\n",
       "  </thead>\n",
       "  <tbody>\n",
       "    <tr>\n",
       "      <th>0</th>\n",
       "      <td>[u, lmao, wow, fuck, 😂, 😂]</td>\n",
       "      <td>normal</td>\n",
       "      <td>No_race</td>\n",
       "      <td>Nonreligious</td>\n",
       "      <td>No_gender</td>\n",
       "      <td>No_orientation</td>\n",
       "    </tr>\n",
       "    <tr>\n",
       "      <th>1</th>\n",
       "      <td>[th, floor, maybe, wow, cnn, fakenews, body, c...</td>\n",
       "      <td>offensive</td>\n",
       "      <td>No_race</td>\n",
       "      <td>Nonreligious</td>\n",
       "      <td>No_gender</td>\n",
       "      <td>No_orientation</td>\n",
       "    </tr>\n",
       "    <tr>\n",
       "      <th>2</th>\n",
       "      <td>[yrs, &lt;, number, &gt;, white, women, raped, nigge...</td>\n",
       "      <td>hatespeech</td>\n",
       "      <td>African</td>\n",
       "      <td>Nonreligious</td>\n",
       "      <td>No_gender</td>\n",
       "      <td>No_orientation</td>\n",
       "    </tr>\n",
       "    <tr>\n",
       "      <th>3</th>\n",
       "      <td>[h, ago, ching, chong, accepted, friend, reque...</td>\n",
       "      <td>offensive</td>\n",
       "      <td>Asian</td>\n",
       "      <td>Nonreligious</td>\n",
       "      <td>No_gender</td>\n",
       "      <td>No_orientation</td>\n",
       "    </tr>\n",
       "    <tr>\n",
       "      <th>4</th>\n",
       "      <td>[th, century, mayhem, lawlessness, nothing, lo...</td>\n",
       "      <td>normal</td>\n",
       "      <td>No_race</td>\n",
       "      <td>Nonreligious</td>\n",
       "      <td>No_gender</td>\n",
       "      <td>No_orientation</td>\n",
       "    </tr>\n",
       "  </tbody>\n",
       "</table>\n",
       "</div>"
      ],
      "text/plain": [
       "                                             comment       label     Race  \\\n",
       "0                         [u, lmao, wow, fuck, 😂, 😂]      normal  No_race   \n",
       "1  [th, floor, maybe, wow, cnn, fakenews, body, c...   offensive  No_race   \n",
       "2  [yrs, <, number, >, white, women, raped, nigge...  hatespeech  African   \n",
       "3  [h, ago, ching, chong, accepted, friend, reque...   offensive    Asian   \n",
       "4  [th, century, mayhem, lawlessness, nothing, lo...      normal  No_race   \n",
       "\n",
       "       Religion     Gender Sexual Orientation  \n",
       "0  Nonreligious  No_gender     No_orientation  \n",
       "1  Nonreligious  No_gender     No_orientation  \n",
       "2  Nonreligious  No_gender     No_orientation  \n",
       "3  Nonreligious  No_gender     No_orientation  \n",
       "4  Nonreligious  No_gender     No_orientation  "
      ]
     },
     "execution_count": 11,
     "metadata": {},
     "output_type": "execute_result"
    }
   ],
   "source": [
    "df.head()"
   ]
  },
  {
   "cell_type": "code",
   "execution_count": 12,
   "id": "a2c26d46",
   "metadata": {},
   "outputs": [],
   "source": [
    "def remove_special_characters(tokens_list):\n",
    "    result = [''.join(letter for letter in token if letter.isalnum()) for token in tokens_list]\n",
    "    \n",
    "    return result\n",
    "\n",
    "df['comment'] = df['comment'].apply(lambda x:remove_special_characters(x))"
   ]
  },
  {
   "cell_type": "code",
   "execution_count": 13,
   "id": "a3e01359",
   "metadata": {},
   "outputs": [
    {
     "data": {
      "text/html": [
       "<div>\n",
       "<style scoped>\n",
       "    .dataframe tbody tr th:only-of-type {\n",
       "        vertical-align: middle;\n",
       "    }\n",
       "\n",
       "    .dataframe tbody tr th {\n",
       "        vertical-align: top;\n",
       "    }\n",
       "\n",
       "    .dataframe thead th {\n",
       "        text-align: right;\n",
       "    }\n",
       "</style>\n",
       "<table border=\"1\" class=\"dataframe\">\n",
       "  <thead>\n",
       "    <tr style=\"text-align: right;\">\n",
       "      <th></th>\n",
       "      <th>comment</th>\n",
       "      <th>label</th>\n",
       "      <th>Race</th>\n",
       "      <th>Religion</th>\n",
       "      <th>Gender</th>\n",
       "      <th>Sexual Orientation</th>\n",
       "    </tr>\n",
       "  </thead>\n",
       "  <tbody>\n",
       "    <tr>\n",
       "      <th>0</th>\n",
       "      <td>[u, lmao, wow, fuck, , ]</td>\n",
       "      <td>normal</td>\n",
       "      <td>No_race</td>\n",
       "      <td>Nonreligious</td>\n",
       "      <td>No_gender</td>\n",
       "      <td>No_orientation</td>\n",
       "    </tr>\n",
       "    <tr>\n",
       "      <th>1</th>\n",
       "      <td>[th, floor, maybe, wow, cnn, fakenews, body, c...</td>\n",
       "      <td>offensive</td>\n",
       "      <td>No_race</td>\n",
       "      <td>Nonreligious</td>\n",
       "      <td>No_gender</td>\n",
       "      <td>No_orientation</td>\n",
       "    </tr>\n",
       "    <tr>\n",
       "      <th>2</th>\n",
       "      <td>[yrs, , number, , white, women, raped, niggers...</td>\n",
       "      <td>hatespeech</td>\n",
       "      <td>African</td>\n",
       "      <td>Nonreligious</td>\n",
       "      <td>No_gender</td>\n",
       "      <td>No_orientation</td>\n",
       "    </tr>\n",
       "    <tr>\n",
       "      <th>3</th>\n",
       "      <td>[h, ago, ching, chong, accepted, friend, reque...</td>\n",
       "      <td>offensive</td>\n",
       "      <td>Asian</td>\n",
       "      <td>Nonreligious</td>\n",
       "      <td>No_gender</td>\n",
       "      <td>No_orientation</td>\n",
       "    </tr>\n",
       "    <tr>\n",
       "      <th>4</th>\n",
       "      <td>[th, century, mayhem, lawlessness, nothing, lo...</td>\n",
       "      <td>normal</td>\n",
       "      <td>No_race</td>\n",
       "      <td>Nonreligious</td>\n",
       "      <td>No_gender</td>\n",
       "      <td>No_orientation</td>\n",
       "    </tr>\n",
       "  </tbody>\n",
       "</table>\n",
       "</div>"
      ],
      "text/plain": [
       "                                             comment       label     Race  \\\n",
       "0                           [u, lmao, wow, fuck, , ]      normal  No_race   \n",
       "1  [th, floor, maybe, wow, cnn, fakenews, body, c...   offensive  No_race   \n",
       "2  [yrs, , number, , white, women, raped, niggers...  hatespeech  African   \n",
       "3  [h, ago, ching, chong, accepted, friend, reque...   offensive    Asian   \n",
       "4  [th, century, mayhem, lawlessness, nothing, lo...      normal  No_race   \n",
       "\n",
       "       Religion     Gender Sexual Orientation  \n",
       "0  Nonreligious  No_gender     No_orientation  \n",
       "1  Nonreligious  No_gender     No_orientation  \n",
       "2  Nonreligious  No_gender     No_orientation  \n",
       "3  Nonreligious  No_gender     No_orientation  \n",
       "4  Nonreligious  No_gender     No_orientation  "
      ]
     },
     "execution_count": 13,
     "metadata": {},
     "output_type": "execute_result"
    }
   ],
   "source": [
    "df.head()"
   ]
  },
  {
   "cell_type": "code",
   "execution_count": 14,
   "id": "4c301d6a",
   "metadata": {},
   "outputs": [],
   "source": [
    "def remove_empty_string(tokens_list):\n",
    "    result = [token for token in tokens_list if token]\n",
    "    \n",
    "    return result\n",
    "\n",
    "df['comment'] = df['comment'].apply(lambda x: remove_empty_string(x))"
   ]
  },
  {
   "cell_type": "code",
   "execution_count": 15,
   "id": "e76e44db",
   "metadata": {},
   "outputs": [
    {
     "data": {
      "text/html": [
       "<div>\n",
       "<style scoped>\n",
       "    .dataframe tbody tr th:only-of-type {\n",
       "        vertical-align: middle;\n",
       "    }\n",
       "\n",
       "    .dataframe tbody tr th {\n",
       "        vertical-align: top;\n",
       "    }\n",
       "\n",
       "    .dataframe thead th {\n",
       "        text-align: right;\n",
       "    }\n",
       "</style>\n",
       "<table border=\"1\" class=\"dataframe\">\n",
       "  <thead>\n",
       "    <tr style=\"text-align: right;\">\n",
       "      <th></th>\n",
       "      <th>comment</th>\n",
       "      <th>label</th>\n",
       "      <th>Race</th>\n",
       "      <th>Religion</th>\n",
       "      <th>Gender</th>\n",
       "      <th>Sexual Orientation</th>\n",
       "    </tr>\n",
       "  </thead>\n",
       "  <tbody>\n",
       "    <tr>\n",
       "      <th>0</th>\n",
       "      <td>[u, lmao, wow, fuck]</td>\n",
       "      <td>normal</td>\n",
       "      <td>No_race</td>\n",
       "      <td>Nonreligious</td>\n",
       "      <td>No_gender</td>\n",
       "      <td>No_orientation</td>\n",
       "    </tr>\n",
       "    <tr>\n",
       "      <th>1</th>\n",
       "      <td>[th, floor, maybe, wow, cnn, fakenews, body, c...</td>\n",
       "      <td>offensive</td>\n",
       "      <td>No_race</td>\n",
       "      <td>Nonreligious</td>\n",
       "      <td>No_gender</td>\n",
       "      <td>No_orientation</td>\n",
       "    </tr>\n",
       "    <tr>\n",
       "      <th>2</th>\n",
       "      <td>[yrs, number, white, women, raped, niggers, nu...</td>\n",
       "      <td>hatespeech</td>\n",
       "      <td>African</td>\n",
       "      <td>Nonreligious</td>\n",
       "      <td>No_gender</td>\n",
       "      <td>No_orientation</td>\n",
       "    </tr>\n",
       "    <tr>\n",
       "      <th>3</th>\n",
       "      <td>[h, ago, ching, chong, accepted, friend, request]</td>\n",
       "      <td>offensive</td>\n",
       "      <td>Asian</td>\n",
       "      <td>Nonreligious</td>\n",
       "      <td>No_gender</td>\n",
       "      <td>No_orientation</td>\n",
       "    </tr>\n",
       "    <tr>\n",
       "      <th>4</th>\n",
       "      <td>[th, century, mayhem, lawlessness, nothing, lo...</td>\n",
       "      <td>normal</td>\n",
       "      <td>No_race</td>\n",
       "      <td>Nonreligious</td>\n",
       "      <td>No_gender</td>\n",
       "      <td>No_orientation</td>\n",
       "    </tr>\n",
       "  </tbody>\n",
       "</table>\n",
       "</div>"
      ],
      "text/plain": [
       "                                             comment       label     Race  \\\n",
       "0                               [u, lmao, wow, fuck]      normal  No_race   \n",
       "1  [th, floor, maybe, wow, cnn, fakenews, body, c...   offensive  No_race   \n",
       "2  [yrs, number, white, women, raped, niggers, nu...  hatespeech  African   \n",
       "3  [h, ago, ching, chong, accepted, friend, request]   offensive    Asian   \n",
       "4  [th, century, mayhem, lawlessness, nothing, lo...      normal  No_race   \n",
       "\n",
       "       Religion     Gender Sexual Orientation  \n",
       "0  Nonreligious  No_gender     No_orientation  \n",
       "1  Nonreligious  No_gender     No_orientation  \n",
       "2  Nonreligious  No_gender     No_orientation  \n",
       "3  Nonreligious  No_gender     No_orientation  \n",
       "4  Nonreligious  No_gender     No_orientation  "
      ]
     },
     "execution_count": 15,
     "metadata": {},
     "output_type": "execute_result"
    }
   ],
   "source": [
    "df.head()"
   ]
  },
  {
   "cell_type": "code",
   "execution_count": 16,
   "id": "0ac6ad5d",
   "metadata": {},
   "outputs": [],
   "source": [
    "df['comment'] = df['comment'].str.join(\" \")"
   ]
  },
  {
   "cell_type": "code",
   "execution_count": 17,
   "id": "510cf0ac",
   "metadata": {},
   "outputs": [
    {
     "data": {
      "text/html": [
       "<div>\n",
       "<style scoped>\n",
       "    .dataframe tbody tr th:only-of-type {\n",
       "        vertical-align: middle;\n",
       "    }\n",
       "\n",
       "    .dataframe tbody tr th {\n",
       "        vertical-align: top;\n",
       "    }\n",
       "\n",
       "    .dataframe thead th {\n",
       "        text-align: right;\n",
       "    }\n",
       "</style>\n",
       "<table border=\"1\" class=\"dataframe\">\n",
       "  <thead>\n",
       "    <tr style=\"text-align: right;\">\n",
       "      <th></th>\n",
       "      <th>comment</th>\n",
       "      <th>label</th>\n",
       "      <th>Race</th>\n",
       "      <th>Religion</th>\n",
       "      <th>Gender</th>\n",
       "      <th>Sexual Orientation</th>\n",
       "    </tr>\n",
       "  </thead>\n",
       "  <tbody>\n",
       "    <tr>\n",
       "      <th>0</th>\n",
       "      <td>u lmao wow fuck</td>\n",
       "      <td>normal</td>\n",
       "      <td>No_race</td>\n",
       "      <td>Nonreligious</td>\n",
       "      <td>No_gender</td>\n",
       "      <td>No_orientation</td>\n",
       "    </tr>\n",
       "    <tr>\n",
       "      <th>1</th>\n",
       "      <td>th floor maybe wow cnn fakenews body count goi...</td>\n",
       "      <td>offensive</td>\n",
       "      <td>No_race</td>\n",
       "      <td>Nonreligious</td>\n",
       "      <td>No_gender</td>\n",
       "      <td>No_orientation</td>\n",
       "    </tr>\n",
       "    <tr>\n",
       "      <th>2</th>\n",
       "      <td>yrs number white women raped niggers number ne...</td>\n",
       "      <td>hatespeech</td>\n",
       "      <td>African</td>\n",
       "      <td>Nonreligious</td>\n",
       "      <td>No_gender</td>\n",
       "      <td>No_orientation</td>\n",
       "    </tr>\n",
       "    <tr>\n",
       "      <th>3</th>\n",
       "      <td>h ago ching chong accepted friend request</td>\n",
       "      <td>offensive</td>\n",
       "      <td>Asian</td>\n",
       "      <td>Nonreligious</td>\n",
       "      <td>No_gender</td>\n",
       "      <td>No_orientation</td>\n",
       "    </tr>\n",
       "    <tr>\n",
       "      <th>4</th>\n",
       "      <td>th century mayhem lawlessness nothing loud mou...</td>\n",
       "      <td>normal</td>\n",
       "      <td>No_race</td>\n",
       "      <td>Nonreligious</td>\n",
       "      <td>No_gender</td>\n",
       "      <td>No_orientation</td>\n",
       "    </tr>\n",
       "  </tbody>\n",
       "</table>\n",
       "</div>"
      ],
      "text/plain": [
       "                                             comment       label     Race  \\\n",
       "0                                    u lmao wow fuck      normal  No_race   \n",
       "1  th floor maybe wow cnn fakenews body count goi...   offensive  No_race   \n",
       "2  yrs number white women raped niggers number ne...  hatespeech  African   \n",
       "3          h ago ching chong accepted friend request   offensive    Asian   \n",
       "4  th century mayhem lawlessness nothing loud mou...      normal  No_race   \n",
       "\n",
       "       Religion     Gender Sexual Orientation  \n",
       "0  Nonreligious  No_gender     No_orientation  \n",
       "1  Nonreligious  No_gender     No_orientation  \n",
       "2  Nonreligious  No_gender     No_orientation  \n",
       "3  Nonreligious  No_gender     No_orientation  \n",
       "4  Nonreligious  No_gender     No_orientation  "
      ]
     },
     "execution_count": 17,
     "metadata": {},
     "output_type": "execute_result"
    }
   ],
   "source": [
    "df.head()"
   ]
  },
  {
   "cell_type": "code",
   "execution_count": 18,
   "id": "6f6e68c8",
   "metadata": {},
   "outputs": [],
   "source": [
    "def get_wordnet_pos(tag):\n",
    "    if tag.startswith('J'):\n",
    "        return wordnet.ADJ\n",
    "    elif tag.startswith('V'):\n",
    "        return wordnet.VERB\n",
    "    elif tag.startswith('N'):\n",
    "        return wordnet.NOUN\n",
    "    elif tag.startswith('R'):\n",
    "        return wordnet.ADV\n",
    "    else:\n",
    "        return wordnet.NOUN"
   ]
  },
  {
   "cell_type": "code",
   "execution_count": 19,
   "id": "cb37acd1",
   "metadata": {},
   "outputs": [],
   "source": [
    "lemmatizer = WordNetLemmatizer()\n",
    "def lemmatize_sentence(sentence):\n",
    "    tokens = word_tokenize(sentence)\n",
    "    pos_tags = pos_tag(tokens)\n",
    "    for i in tokens:\n",
    "        lemmatized_sentence = [lemmatizer.lemmatize(word, get_wordnet_pos(pos)) for word, pos in pos_tags]\n",
    "        \n",
    "    return lemmatized_sentence\n",
    "    \n",
    "df['comment'] = df['comment'].apply(lambda x:lemmatize_sentence(x))"
   ]
  },
  {
   "cell_type": "code",
   "execution_count": 20,
   "id": "56d5e187",
   "metadata": {},
   "outputs": [
    {
     "data": {
      "text/html": [
       "<div>\n",
       "<style scoped>\n",
       "    .dataframe tbody tr th:only-of-type {\n",
       "        vertical-align: middle;\n",
       "    }\n",
       "\n",
       "    .dataframe tbody tr th {\n",
       "        vertical-align: top;\n",
       "    }\n",
       "\n",
       "    .dataframe thead th {\n",
       "        text-align: right;\n",
       "    }\n",
       "</style>\n",
       "<table border=\"1\" class=\"dataframe\">\n",
       "  <thead>\n",
       "    <tr style=\"text-align: right;\">\n",
       "      <th></th>\n",
       "      <th>comment</th>\n",
       "      <th>label</th>\n",
       "      <th>Race</th>\n",
       "      <th>Religion</th>\n",
       "      <th>Gender</th>\n",
       "      <th>Sexual Orientation</th>\n",
       "    </tr>\n",
       "  </thead>\n",
       "  <tbody>\n",
       "    <tr>\n",
       "      <th>0</th>\n",
       "      <td>[u, lmao, wow, fuck]</td>\n",
       "      <td>normal</td>\n",
       "      <td>No_race</td>\n",
       "      <td>Nonreligious</td>\n",
       "      <td>No_gender</td>\n",
       "      <td>No_orientation</td>\n",
       "    </tr>\n",
       "    <tr>\n",
       "      <th>1</th>\n",
       "      <td>[th, floor, maybe, wow, cnn, fakenews, body, c...</td>\n",
       "      <td>offensive</td>\n",
       "      <td>No_race</td>\n",
       "      <td>Nonreligious</td>\n",
       "      <td>No_gender</td>\n",
       "      <td>No_orientation</td>\n",
       "    </tr>\n",
       "    <tr>\n",
       "      <th>2</th>\n",
       "      <td>[yrs, number, white, woman, rap, nigger, numbe...</td>\n",
       "      <td>hatespeech</td>\n",
       "      <td>African</td>\n",
       "      <td>Nonreligious</td>\n",
       "      <td>No_gender</td>\n",
       "      <td>No_orientation</td>\n",
       "    </tr>\n",
       "    <tr>\n",
       "      <th>3</th>\n",
       "      <td>[h, ago, ching, chong, accept, friend, request]</td>\n",
       "      <td>offensive</td>\n",
       "      <td>Asian</td>\n",
       "      <td>Nonreligious</td>\n",
       "      <td>No_gender</td>\n",
       "      <td>No_orientation</td>\n",
       "    </tr>\n",
       "    <tr>\n",
       "      <th>4</th>\n",
       "      <td>[th, century, mayhem, lawlessness, nothing, lo...</td>\n",
       "      <td>normal</td>\n",
       "      <td>No_race</td>\n",
       "      <td>Nonreligious</td>\n",
       "      <td>No_gender</td>\n",
       "      <td>No_orientation</td>\n",
       "    </tr>\n",
       "  </tbody>\n",
       "</table>\n",
       "</div>"
      ],
      "text/plain": [
       "                                             comment       label     Race  \\\n",
       "0                               [u, lmao, wow, fuck]      normal  No_race   \n",
       "1  [th, floor, maybe, wow, cnn, fakenews, body, c...   offensive  No_race   \n",
       "2  [yrs, number, white, woman, rap, nigger, numbe...  hatespeech  African   \n",
       "3    [h, ago, ching, chong, accept, friend, request]   offensive    Asian   \n",
       "4  [th, century, mayhem, lawlessness, nothing, lo...      normal  No_race   \n",
       "\n",
       "       Religion     Gender Sexual Orientation  \n",
       "0  Nonreligious  No_gender     No_orientation  \n",
       "1  Nonreligious  No_gender     No_orientation  \n",
       "2  Nonreligious  No_gender     No_orientation  \n",
       "3  Nonreligious  No_gender     No_orientation  \n",
       "4  Nonreligious  No_gender     No_orientation  "
      ]
     },
     "execution_count": 20,
     "metadata": {},
     "output_type": "execute_result"
    }
   ],
   "source": [
    "df.head()"
   ]
  },
  {
   "cell_type": "code",
   "execution_count": 21,
   "id": "8f2229b3",
   "metadata": {},
   "outputs": [],
   "source": [
    "df['comment'] = df['comment'].str.join(\" \")"
   ]
  },
  {
   "cell_type": "code",
   "execution_count": 22,
   "id": "d9d9e10d",
   "metadata": {},
   "outputs": [
    {
     "data": {
      "text/html": [
       "<div>\n",
       "<style scoped>\n",
       "    .dataframe tbody tr th:only-of-type {\n",
       "        vertical-align: middle;\n",
       "    }\n",
       "\n",
       "    .dataframe tbody tr th {\n",
       "        vertical-align: top;\n",
       "    }\n",
       "\n",
       "    .dataframe thead th {\n",
       "        text-align: right;\n",
       "    }\n",
       "</style>\n",
       "<table border=\"1\" class=\"dataframe\">\n",
       "  <thead>\n",
       "    <tr style=\"text-align: right;\">\n",
       "      <th></th>\n",
       "      <th>comment</th>\n",
       "      <th>label</th>\n",
       "      <th>Race</th>\n",
       "      <th>Religion</th>\n",
       "      <th>Gender</th>\n",
       "      <th>Sexual Orientation</th>\n",
       "    </tr>\n",
       "  </thead>\n",
       "  <tbody>\n",
       "    <tr>\n",
       "      <th>0</th>\n",
       "      <td>u lmao wow fuck</td>\n",
       "      <td>normal</td>\n",
       "      <td>No_race</td>\n",
       "      <td>Nonreligious</td>\n",
       "      <td>No_gender</td>\n",
       "      <td>No_orientation</td>\n",
       "    </tr>\n",
       "    <tr>\n",
       "      <th>1</th>\n",
       "      <td>th floor maybe wow cnn fakenews body count go ...</td>\n",
       "      <td>offensive</td>\n",
       "      <td>No_race</td>\n",
       "      <td>Nonreligious</td>\n",
       "      <td>No_gender</td>\n",
       "      <td>No_orientation</td>\n",
       "    </tr>\n",
       "    <tr>\n",
       "      <th>2</th>\n",
       "      <td>yrs number white woman rap nigger number negre...</td>\n",
       "      <td>hatespeech</td>\n",
       "      <td>African</td>\n",
       "      <td>Nonreligious</td>\n",
       "      <td>No_gender</td>\n",
       "      <td>No_orientation</td>\n",
       "    </tr>\n",
       "    <tr>\n",
       "      <th>3</th>\n",
       "      <td>h ago ching chong accept friend request</td>\n",
       "      <td>offensive</td>\n",
       "      <td>Asian</td>\n",
       "      <td>Nonreligious</td>\n",
       "      <td>No_gender</td>\n",
       "      <td>No_orientation</td>\n",
       "    </tr>\n",
       "    <tr>\n",
       "      <th>4</th>\n",
       "      <td>th century mayhem lawlessness nothing loud mou...</td>\n",
       "      <td>normal</td>\n",
       "      <td>No_race</td>\n",
       "      <td>Nonreligious</td>\n",
       "      <td>No_gender</td>\n",
       "      <td>No_orientation</td>\n",
       "    </tr>\n",
       "  </tbody>\n",
       "</table>\n",
       "</div>"
      ],
      "text/plain": [
       "                                             comment       label     Race  \\\n",
       "0                                    u lmao wow fuck      normal  No_race   \n",
       "1  th floor maybe wow cnn fakenews body count go ...   offensive  No_race   \n",
       "2  yrs number white woman rap nigger number negre...  hatespeech  African   \n",
       "3            h ago ching chong accept friend request   offensive    Asian   \n",
       "4  th century mayhem lawlessness nothing loud mou...      normal  No_race   \n",
       "\n",
       "       Religion     Gender Sexual Orientation  \n",
       "0  Nonreligious  No_gender     No_orientation  \n",
       "1  Nonreligious  No_gender     No_orientation  \n",
       "2  Nonreligious  No_gender     No_orientation  \n",
       "3  Nonreligious  No_gender     No_orientation  \n",
       "4  Nonreligious  No_gender     No_orientation  "
      ]
     },
     "execution_count": 22,
     "metadata": {},
     "output_type": "execute_result"
    }
   ],
   "source": [
    "df.head()"
   ]
  },
  {
   "cell_type": "code",
   "execution_count": 23,
   "id": "52833675",
   "metadata": {},
   "outputs": [
    {
     "data": {
      "text/plain": [
       "label\n",
       "normal        7818\n",
       "hatespeech    6484\n",
       "offensive     5807\n",
       "Name: count, dtype: int64"
      ]
     },
     "execution_count": 23,
     "metadata": {},
     "output_type": "execute_result"
    }
   ],
   "source": [
    "df['label'].value_counts()"
   ]
  },
  {
   "cell_type": "code",
   "execution_count": 24,
   "id": "b6bde155",
   "metadata": {},
   "outputs": [],
   "source": [
    "X = df['comment']\n",
    "y = df['label']\n",
    "X_train, X_test, y_train, y_test = train_test_split(X, y, test_size=0.15, random_state=2054)"
   ]
  },
  {
   "cell_type": "code",
   "execution_count": 25,
   "id": "2f71e487",
   "metadata": {},
   "outputs": [
    {
     "data": {
      "text/plain": [
       "(17092,)"
      ]
     },
     "execution_count": 25,
     "metadata": {},
     "output_type": "execute_result"
    }
   ],
   "source": [
    "X_train.shape"
   ]
  },
  {
   "cell_type": "code",
   "execution_count": 26,
   "id": "8d1954db",
   "metadata": {},
   "outputs": [
    {
     "data": {
      "text/plain": [
       "(3017,)"
      ]
     },
     "execution_count": 26,
     "metadata": {},
     "output_type": "execute_result"
    }
   ],
   "source": [
    "X_test.shape"
   ]
  },
  {
   "cell_type": "code",
   "execution_count": 27,
   "id": "a9598296",
   "metadata": {},
   "outputs": [],
   "source": [
    "clf1 = Pipeline([\n",
    "    ('vectorisor_tfidf',TfidfVectorizer()),\n",
    "    ('lr',LogisticRegression())\n",
    "])"
   ]
  },
  {
   "cell_type": "code",
   "execution_count": 28,
   "id": "8d7ff0a3",
   "metadata": {},
   "outputs": [
    {
     "name": "stdout",
     "output_type": "stream",
     "text": [
      "              precision    recall  f1-score   support\n",
      "\n",
      "  hatespeech       0.70      0.70      0.70       979\n",
      "      normal       0.77      0.65      0.71      1397\n",
      "   offensive       0.40      0.54      0.46       641\n",
      "\n",
      "    accuracy                           0.64      3017\n",
      "   macro avg       0.62      0.63      0.62      3017\n",
      "weighted avg       0.67      0.64      0.65      3017\n",
      "\n"
     ]
    },
    {
     "name": "stderr",
     "output_type": "stream",
     "text": [
      "C:\\Users\\maina\\anaconda3\\lib\\site-packages\\sklearn\\linear_model\\_logistic.py:814: ConvergenceWarning: lbfgs failed to converge (status=1):\n",
      "STOP: TOTAL NO. of ITERATIONS REACHED LIMIT.\n",
      "\n",
      "Increase the number of iterations (max_iter) or scale the data as shown in:\n",
      "    https://scikit-learn.org/stable/modules/preprocessing.html\n",
      "Please also refer to the documentation for alternative solver options:\n",
      "    https://scikit-learn.org/stable/modules/linear_model.html#logistic-regression\n",
      "  n_iter_i = _check_optimize_result(\n"
     ]
    }
   ],
   "source": [
    "clf1.fit(X_train, y_train)\n",
    "y_pred = clf1.predict(X_test)\n",
    "print(classification_report(y_pred, y_test))"
   ]
  },
  {
   "cell_type": "code",
   "execution_count": 29,
   "id": "34e48aa6",
   "metadata": {},
   "outputs": [],
   "source": [
    "clf2 = Pipeline([\n",
    "    ('vectorisor_tfidf',TfidfVectorizer()),\n",
    "    ('rfc',RandomForestClassifier(n_estimators=100, random_state=42))\n",
    "])"
   ]
  },
  {
   "cell_type": "code",
   "execution_count": 30,
   "id": "3930f352",
   "metadata": {},
   "outputs": [
    {
     "name": "stdout",
     "output_type": "stream",
     "text": [
      "              precision    recall  f1-score   support\n",
      "\n",
      "  hatespeech       0.69      0.72      0.70       948\n",
      "      normal       0.80      0.61      0.69      1550\n",
      "   offensive       0.35      0.58      0.44       519\n",
      "\n",
      "    accuracy                           0.64      3017\n",
      "   macro avg       0.61      0.64      0.61      3017\n",
      "weighted avg       0.69      0.64      0.65      3017\n",
      "\n"
     ]
    }
   ],
   "source": [
    "clf2.fit(X_train, y_train)\n",
    "y_pred = clf2.predict(X_test)\n",
    "print(classification_report(y_pred, y_test))"
   ]
  },
  {
   "cell_type": "code",
   "execution_count": 31,
   "id": "fc55c86f",
   "metadata": {},
   "outputs": [],
   "source": [
    "clf3 = Pipeline([\n",
    "    ('vectorisor_tfidf',TfidfVectorizer()),\n",
    "    ('svc',SVC(probability=True, kernel='linear'))\n",
    "])"
   ]
  },
  {
   "cell_type": "code",
   "execution_count": 32,
   "id": "e5c83345",
   "metadata": {},
   "outputs": [
    {
     "name": "stdout",
     "output_type": "stream",
     "text": [
      "              precision    recall  f1-score   support\n",
      "\n",
      "  hatespeech       0.70      0.72      0.71       956\n",
      "      normal       0.75      0.66      0.70      1349\n",
      "   offensive       0.43      0.51      0.46       712\n",
      "\n",
      "    accuracy                           0.64      3017\n",
      "   macro avg       0.62      0.63      0.62      3017\n",
      "weighted avg       0.66      0.64      0.65      3017\n",
      "\n"
     ]
    }
   ],
   "source": [
    "clf3.fit(X_train, y_train)\n",
    "y_pred = clf3.predict(X_test)\n",
    "print(classification_report(y_pred, y_test))"
   ]
  },
  {
   "cell_type": "code",
   "execution_count": 33,
   "id": "e0e17113",
   "metadata": {},
   "outputs": [
    {
     "name": "stderr",
     "output_type": "stream",
     "text": [
      "C:\\Users\\maina\\anaconda3\\lib\\site-packages\\sklearn\\linear_model\\_logistic.py:814: ConvergenceWarning: lbfgs failed to converge (status=1):\n",
      "STOP: TOTAL NO. of ITERATIONS REACHED LIMIT.\n",
      "\n",
      "Increase the number of iterations (max_iter) or scale the data as shown in:\n",
      "    https://scikit-learn.org/stable/modules/preprocessing.html\n",
      "Please also refer to the documentation for alternative solver options:\n",
      "    https://scikit-learn.org/stable/modules/linear_model.html#logistic-regression\n",
      "  n_iter_i = _check_optimize_result(\n"
     ]
    },
    {
     "name": "stdout",
     "output_type": "stream",
     "text": [
      "              precision    recall  f1-score   support\n",
      "\n",
      "  hatespeech       0.71      0.71      0.71       981\n",
      "      normal       0.77      0.65      0.71      1400\n",
      "   offensive       0.40      0.54      0.46       636\n",
      "\n",
      "    accuracy                           0.65      3017\n",
      "   macro avg       0.63      0.64      0.63      3017\n",
      "weighted avg       0.67      0.65      0.66      3017\n",
      "\n"
     ]
    }
   ],
   "source": [
    "voting_clf = VotingClassifier(estimators=[\n",
    "        ('lr', clf1), \n",
    "        ('rf', clf2), \n",
    "        ('svc', clf3)], voting='hard')\n",
    "voting_clf.fit(X_train, y_train)\n",
    "y_pred = voting_clf.predict(X_test)\n",
    "print(classification_report(y_pred, y_test))"
   ]
  },
  {
   "cell_type": "code",
   "execution_count": 34,
   "id": "7fdeec74",
   "metadata": {},
   "outputs": [],
   "source": [
    "model = voting_clf # final model"
   ]
  },
  {
   "cell_type": "code",
   "execution_count": 35,
   "id": "8bec652a",
   "metadata": {},
   "outputs": [],
   "source": [
    "joblib.dump(model, 'model.joblib')\n",
    "mdl = joblib.load('model.joblib')"
   ]
  },
  {
   "cell_type": "code",
   "execution_count": 36,
   "id": "b8eb9d36",
   "metadata": {},
   "outputs": [
    {
     "name": "stdout",
     "output_type": "stream",
     "text": [
      "['normal' 'normal' 'hatespeech']\n"
     ]
    }
   ],
   "source": [
    "corpus = [\n",
    "    \"I love spending time with my family on weekends.\",\n",
    "    \"People from that country are ruining everything, they should be kicked out.\",\n",
    "    \"You're so stupid, I can't believe you messed that up again!\"\n",
    "]\n",
    "\n",
    "print(mdl.predict(corpus))"
   ]
  },
  {
   "cell_type": "code",
   "execution_count": 37,
   "id": "5b7304ed",
   "metadata": {},
   "outputs": [
    {
     "data": {
      "application/vnd.jupyter.widget-view+json": {
       "model_id": "6e66c968137a4216980b364b2e48cff5",
       "version_major": 2,
       "version_minor": 0
      },
      "text/plain": [
       "Text(value='', description='Input:', placeholder='Type something...')"
      ]
     },
     "metadata": {},
     "output_type": "display_data"
    },
    {
     "data": {
      "application/vnd.jupyter.widget-view+json": {
       "model_id": "c32f0a5edeca4871bec74ea6c72b7cf1",
       "version_major": 2,
       "version_minor": 0
      },
      "text/plain": [
       "Button(description='Submit', style=ButtonStyle())"
      ]
     },
     "metadata": {},
     "output_type": "display_data"
    },
    {
     "data": {
      "application/vnd.jupyter.widget-view+json": {
       "model_id": "9471f143d8fb4cca960bc95b1a934226",
       "version_major": 2,
       "version_minor": 0
      },
      "text/plain": [
       "Output()"
      ]
     },
     "metadata": {},
     "output_type": "display_data"
    }
   ],
   "source": [
    "text_input = widgets.Text(\n",
    "    value='',\n",
    "    placeholder='Type something...',\n",
    "    description='Input:',\n",
    "    disabled=False\n",
    ")\n",
    "\n",
    "submit_button = widgets.Button(description=\"Submit\")\n",
    "\n",
    "output = widgets.Output()\n",
    "\n",
    "def process_input(b):\n",
    "    with output:\n",
    "        clear_output()\n",
    "        \n",
    "        input_text = text_input.value\n",
    "        result = f\"You entered: {input_text}\"\n",
    "        print(f\"Entered input: {mdl.predict([result])[0]}\")\n",
    "\n",
    "submit_button.on_click(process_input)\n",
    "display(text_input, submit_button, output)"
   ]
  },
  {
   "cell_type": "code",
   "execution_count": null,
   "id": "3b2b3c1a",
   "metadata": {},
   "outputs": [],
   "source": []
  }
 ],
 "metadata": {
  "kernelspec": {
   "display_name": "Python 3 (ipykernel)",
   "language": "python",
   "name": "python3"
  },
  "language_info": {
   "codemirror_mode": {
    "name": "ipython",
    "version": 3
   },
   "file_extension": ".py",
   "mimetype": "text/x-python",
   "name": "python",
   "nbconvert_exporter": "python",
   "pygments_lexer": "ipython3",
   "version": "3.9.13"
  }
 },
 "nbformat": 4,
 "nbformat_minor": 5
}
